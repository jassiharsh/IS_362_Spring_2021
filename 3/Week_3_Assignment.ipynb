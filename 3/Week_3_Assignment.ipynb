{
 "cells": [
  {
   "cell_type": "markdown",
   "metadata": {},
   "source": [
    "Suppose you have ridden a bicycle from New York City to Key West, Florida.  Your bicycle odometer shows the total miles, which you have dutifully logged at the end of each day with paper and pencil.  Your first two entries might be 55 and 120, indicating that you rode your bike 55 miles on day 1 and 65 miles on day 2.  Your task is to create a pandas Series object that holds the cumulative miles at the end of each day, then use your Python skills to show the total miles that you rode each day.  Consider how you should best present this information in a Jupyter notebook.  You should save your Jupyter Notebook to your GitHub repository, and provide a link in your assignment submission."
   ]
  },
  {
   "cell_type": "code",
   "execution_count": 2,
   "metadata": {},
   "outputs": [],
   "source": [
    "# import pandas and numpy\n",
    "import pandas as pd\n",
    "import numpy as np"
   ]
  },
  {
   "cell_type": "code",
   "execution_count": 3,
   "metadata": {},
   "outputs": [
    {
     "name": "stdout",
     "output_type": "stream",
     "text": [
      "[ 55 120 150 210 287 300]\n"
     ]
    }
   ],
   "source": [
    "# create a numpy array\n",
    "# which will store the cumulative miles\n",
    "cum_miles = np.array([55, 120, 150, 210, 287, 300])\n",
    "print(cum_miles)"
   ]
  },
  {
   "cell_type": "code",
   "execution_count": 4,
   "metadata": {},
   "outputs": [
    {
     "name": "stdout",
     "output_type": "stream",
     "text": [
      "0     55\n",
      "1    120\n",
      "2    150\n",
      "3    210\n",
      "4    287\n",
      "5    300\n",
      "dtype: int32\n"
     ]
    }
   ],
   "source": [
    "# convert it into panda series\n",
    "cum_series = pd.Series(cum_miles)\n",
    "print(cum_series)"
   ]
  },
  {
   "cell_type": "code",
   "execution_count": 5,
   "metadata": {},
   "outputs": [
    {
     "name": "stdout",
     "output_type": "stream",
     "text": [
      "[55]\n"
     ]
    }
   ],
   "source": [
    "# now create another array to store the miles covered each day\n",
    "# the first day mile will be same as the cumulative miles\n",
    "each_Day = np.array([cum_series[0]])\n",
    "print(each_Day)"
   ]
  },
  {
   "cell_type": "code",
   "execution_count": 6,
   "metadata": {},
   "outputs": [
    {
     "name": "stdout",
     "output_type": "stream",
     "text": [
      "[55 65 30 60 77 13]\n"
     ]
    }
   ],
   "source": [
    "# iterate the series\n",
    "for i in range(1, len(cum_series)):\n",
    "    # the miles for current day wil be cumulative mile till that day - previous day mile\n",
    "    each_Day = np.append(each_Day, cum_series[i]-cum_series[i-1])\n",
    "    # each_Day = [55] i=1 each_Day = [55,120-55=65]\n",
    "    # each_Day = [55,65] i=2 each_Day = [55,65,150-120=30]\n",
    "    # each_Day = [55,65,30] i=3 each_Day = [55,65,30,210-150=60]\n",
    "    # each_Day = [55,65,30,60] i=4 each_Day = [55,65,30,60,287-210=77]\n",
    "    # each_Day = [55,65,30,60,77] i=5 each_Day = [55,65,30,60,77,300-287=13]\n",
    "print(each_Day)"
   ]
  },
  {
   "cell_type": "code",
   "execution_count": 7,
   "metadata": {},
   "outputs": [
    {
     "name": "stdout",
     "output_type": "stream",
     "text": [
      "Miles each day:\n",
      "0    55\n",
      "1    65\n",
      "2    30\n",
      "3    60\n",
      "4    77\n",
      "5    13\n",
      "dtype: int32\n"
     ]
    }
   ],
   "source": [
    "# finally convert the new array into series and display it\n",
    "print(\"Miles each day:\")\n",
    "print(pd.Series(each_Day))"
   ]
  },
  {
   "cell_type": "code",
   "execution_count": null,
   "metadata": {},
   "outputs": [],
   "source": []
  }
 ],
 "metadata": {
  "kernelspec": {
   "display_name": "Python 3",
   "language": "python",
   "name": "python3"
  },
  "language_info": {
   "codemirror_mode": {
    "name": "ipython",
    "version": 3
   },
   "file_extension": ".py",
   "mimetype": "text/x-python",
   "name": "python",
   "nbconvert_exporter": "python",
   "pygments_lexer": "ipython3",
   "version": "3.7.6"
  }
 },
 "nbformat": 4,
 "nbformat_minor": 4
}
