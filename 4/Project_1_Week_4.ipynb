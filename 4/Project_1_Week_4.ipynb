{
 "cells": [
  {
   "cell_type": "code",
   "execution_count": 12,
   "metadata": {},
   "outputs": [],
   "source": [
    "import pandas as pd"
   ]
  },
  {
   "cell_type": "code",
   "execution_count": 13,
   "metadata": {},
   "outputs": [
    {
     "data": {
      "text/html": [
       "<div>\n",
       "<style scoped>\n",
       "    .dataframe tbody tr th:only-of-type {\n",
       "        vertical-align: middle;\n",
       "    }\n",
       "\n",
       "    .dataframe tbody tr th {\n",
       "        vertical-align: top;\n",
       "    }\n",
       "\n",
       "    .dataframe thead th {\n",
       "        text-align: right;\n",
       "    }\n",
       "</style>\n",
       "<table border=\"1\" class=\"dataframe\">\n",
       "  <thead>\n",
       "    <tr style=\"text-align: right;\">\n",
       "      <th></th>\n",
       "      <th>City</th>\n",
       "      <th>Alaska_On_Time</th>\n",
       "      <th>Alaska_Delay</th>\n",
       "      <th>AM WEST_On_Time</th>\n",
       "      <th>AM West_Delay</th>\n",
       "    </tr>\n",
       "  </thead>\n",
       "  <tbody>\n",
       "    <tr>\n",
       "      <th>0</th>\n",
       "      <td>Los angelos</td>\n",
       "      <td>497</td>\n",
       "      <td>62</td>\n",
       "      <td>694</td>\n",
       "      <td>117</td>\n",
       "    </tr>\n",
       "    <tr>\n",
       "      <th>1</th>\n",
       "      <td>Pheonix</td>\n",
       "      <td>221</td>\n",
       "      <td>12</td>\n",
       "      <td>4840</td>\n",
       "      <td>415</td>\n",
       "    </tr>\n",
       "    <tr>\n",
       "      <th>2</th>\n",
       "      <td>San Diego</td>\n",
       "      <td>212</td>\n",
       "      <td>20</td>\n",
       "      <td>383</td>\n",
       "      <td>65</td>\n",
       "    </tr>\n",
       "    <tr>\n",
       "      <th>3</th>\n",
       "      <td>san Francisco</td>\n",
       "      <td>503</td>\n",
       "      <td>102</td>\n",
       "      <td>20</td>\n",
       "      <td>129</td>\n",
       "    </tr>\n",
       "    <tr>\n",
       "      <th>4</th>\n",
       "      <td>Seattle</td>\n",
       "      <td>1841</td>\n",
       "      <td>305</td>\n",
       "      <td>201</td>\n",
       "      <td>61</td>\n",
       "    </tr>\n",
       "  </tbody>\n",
       "</table>\n",
       "</div>"
      ],
      "text/plain": [
       "            City  Alaska_On_Time  Alaska_Delay  AM WEST_On_Time  AM West_Delay\n",
       "0    Los angelos             497            62              694            117\n",
       "1        Pheonix             221            12             4840            415\n",
       "2      San Diego             212            20              383             65\n",
       "3  san Francisco             503           102               20            129\n",
       "4        Seattle            1841           305              201             61"
      ]
     },
     "execution_count": 13,
     "metadata": {},
     "output_type": "execute_result"
    }
   ],
   "source": [
    "airline_data = pd.read_csv(\"Data.csv\")\n",
    "airline_data"
   ]
  },
  {
   "cell_type": "code",
   "execution_count": 14,
   "metadata": {},
   "outputs": [
    {
     "data": {
      "text/plain": [
       "0    11.091234\n",
       "1     5.150215\n",
       "2     8.620690\n",
       "3    16.859504\n",
       "4    14.212488\n",
       "Name: Alaska_Percent_Delay, dtype: float64"
      ]
     },
     "execution_count": 14,
     "metadata": {},
     "output_type": "execute_result"
    }
   ],
   "source": [
    "airline_data['Total_Alaska_Flights'] = airline_data['Alaska_On_Time'] + airline_data['Alaska_Delay']\n",
    "airline_data['Alaska_Percent_Delay'] = (airline_data['Alaska_Delay'] / airline_data['Total_Alaska_Flights']) * 100\n",
    "airline_data['Alaska_Percent_Delay']"
   ]
  },
  {
   "cell_type": "code",
   "execution_count": 18,
   "metadata": {},
   "outputs": [
    {
     "data": {
      "text/plain": [
       "0    14.426634\n",
       "1     7.897241\n",
       "2    14.508929\n",
       "3    86.577181\n",
       "4    23.282443\n",
       "Name: AMWest_Percent_Delay, dtype: float64"
      ]
     },
     "execution_count": 18,
     "metadata": {},
     "output_type": "execute_result"
    }
   ],
   "source": [
    "airline_data['Total_AMWest'] = airline_data['AM West_Delay'] + airline_data['AM WEST_On_Time']\n",
    "airline_data['AMWest_Percent_Delay'] = (airline_data['AM West_Delay'] / airline_data['Total_AMWest']) * 100\n",
    "airline_data['AMWest_Percent_Delay']"
   ]
  },
  {
   "cell_type": "code",
   "execution_count": 19,
   "metadata": {},
   "outputs": [
    {
     "data": {
      "text/html": [
       "<div>\n",
       "<style scoped>\n",
       "    .dataframe tbody tr th:only-of-type {\n",
       "        vertical-align: middle;\n",
       "    }\n",
       "\n",
       "    .dataframe tbody tr th {\n",
       "        vertical-align: top;\n",
       "    }\n",
       "\n",
       "    .dataframe thead th {\n",
       "        text-align: right;\n",
       "    }\n",
       "</style>\n",
       "<table border=\"1\" class=\"dataframe\">\n",
       "  <thead>\n",
       "    <tr style=\"text-align: right;\">\n",
       "      <th></th>\n",
       "      <th>Alaska_Percent_Delay</th>\n",
       "      <th>AMWest_Percent_Delay</th>\n",
       "    </tr>\n",
       "  </thead>\n",
       "  <tbody>\n",
       "    <tr>\n",
       "      <th>0</th>\n",
       "      <td>11.091234</td>\n",
       "      <td>14.426634</td>\n",
       "    </tr>\n",
       "    <tr>\n",
       "      <th>1</th>\n",
       "      <td>5.150215</td>\n",
       "      <td>7.897241</td>\n",
       "    </tr>\n",
       "    <tr>\n",
       "      <th>2</th>\n",
       "      <td>8.620690</td>\n",
       "      <td>14.508929</td>\n",
       "    </tr>\n",
       "    <tr>\n",
       "      <th>3</th>\n",
       "      <td>16.859504</td>\n",
       "      <td>86.577181</td>\n",
       "    </tr>\n",
       "    <tr>\n",
       "      <th>4</th>\n",
       "      <td>14.212488</td>\n",
       "      <td>23.282443</td>\n",
       "    </tr>\n",
       "  </tbody>\n",
       "</table>\n",
       "</div>"
      ],
      "text/plain": [
       "   Alaska_Percent_Delay  AMWest_Percent_Delay\n",
       "0             11.091234             14.426634\n",
       "1              5.150215              7.897241\n",
       "2              8.620690             14.508929\n",
       "3             16.859504             86.577181\n",
       "4             14.212488             23.282443"
      ]
     },
     "execution_count": 19,
     "metadata": {},
     "output_type": "execute_result"
    }
   ],
   "source": [
    "airline_data[['Alaska_Percent_Delay', 'AMWest_Percent_Delay']]"
   ]
  },
  {
   "cell_type": "code",
   "execution_count": 20,
   "metadata": {},
   "outputs": [
    {
     "data": {
      "text/plain": [
       "0    AMWest\n",
       "1    AMWest\n",
       "2    AMWest\n",
       "3    AMWest\n",
       "4    AMWest\n",
       "Name: Most_Delayed_Airline, dtype: object"
      ]
     },
     "execution_count": 20,
     "metadata": {},
     "output_type": "execute_result"
    }
   ],
   "source": [
    "for index, row in airline_data.iterrows():\n",
    "    if row[\"Alaska_Percent_Delay\"] > row[\"AMWest_Percent_Delay\"]:\n",
    "        airline_data.loc[index, 'Most_Delayed_Airline'] = 'Alaska'\n",
    "    else:\n",
    "        airline_data.loc[index, 'Most_Delayed_Airline'] = 'AMWest'\n",
    "\n",
    "airline_data['Most_Delayed_Airline']"
   ]
  },
  {
   "cell_type": "code",
   "execution_count": 21,
   "metadata": {},
   "outputs": [
    {
     "data": {
      "text/html": [
       "<div>\n",
       "<style scoped>\n",
       "    .dataframe tbody tr th:only-of-type {\n",
       "        vertical-align: middle;\n",
       "    }\n",
       "\n",
       "    .dataframe tbody tr th {\n",
       "        vertical-align: top;\n",
       "    }\n",
       "\n",
       "    .dataframe thead th {\n",
       "        text-align: right;\n",
       "    }\n",
       "</style>\n",
       "<table border=\"1\" class=\"dataframe\">\n",
       "  <thead>\n",
       "    <tr style=\"text-align: right;\">\n",
       "      <th></th>\n",
       "      <th>City</th>\n",
       "      <th>Alaska_On_Time</th>\n",
       "      <th>Alaska_Delay</th>\n",
       "      <th>AM WEST_On_Time</th>\n",
       "      <th>AM West_Delay</th>\n",
       "      <th>Total_Alaska_Flights</th>\n",
       "      <th>Alaska_Percent_Delay</th>\n",
       "      <th>Total_AMWest</th>\n",
       "      <th>AMWest_Percent_Delay</th>\n",
       "      <th>Most_Delayed_Airline</th>\n",
       "    </tr>\n",
       "  </thead>\n",
       "  <tbody>\n",
       "    <tr>\n",
       "      <th>0</th>\n",
       "      <td>Los angelos</td>\n",
       "      <td>497</td>\n",
       "      <td>62</td>\n",
       "      <td>694</td>\n",
       "      <td>117</td>\n",
       "      <td>559</td>\n",
       "      <td>11.091234</td>\n",
       "      <td>811</td>\n",
       "      <td>14.426634</td>\n",
       "      <td>AMWest</td>\n",
       "    </tr>\n",
       "    <tr>\n",
       "      <th>1</th>\n",
       "      <td>Pheonix</td>\n",
       "      <td>221</td>\n",
       "      <td>12</td>\n",
       "      <td>4840</td>\n",
       "      <td>415</td>\n",
       "      <td>233</td>\n",
       "      <td>5.150215</td>\n",
       "      <td>5255</td>\n",
       "      <td>7.897241</td>\n",
       "      <td>AMWest</td>\n",
       "    </tr>\n",
       "    <tr>\n",
       "      <th>2</th>\n",
       "      <td>San Diego</td>\n",
       "      <td>212</td>\n",
       "      <td>20</td>\n",
       "      <td>383</td>\n",
       "      <td>65</td>\n",
       "      <td>232</td>\n",
       "      <td>8.620690</td>\n",
       "      <td>448</td>\n",
       "      <td>14.508929</td>\n",
       "      <td>AMWest</td>\n",
       "    </tr>\n",
       "    <tr>\n",
       "      <th>3</th>\n",
       "      <td>san Francisco</td>\n",
       "      <td>503</td>\n",
       "      <td>102</td>\n",
       "      <td>20</td>\n",
       "      <td>129</td>\n",
       "      <td>605</td>\n",
       "      <td>16.859504</td>\n",
       "      <td>149</td>\n",
       "      <td>86.577181</td>\n",
       "      <td>AMWest</td>\n",
       "    </tr>\n",
       "    <tr>\n",
       "      <th>4</th>\n",
       "      <td>Seattle</td>\n",
       "      <td>1841</td>\n",
       "      <td>305</td>\n",
       "      <td>201</td>\n",
       "      <td>61</td>\n",
       "      <td>2146</td>\n",
       "      <td>14.212488</td>\n",
       "      <td>262</td>\n",
       "      <td>23.282443</td>\n",
       "      <td>AMWest</td>\n",
       "    </tr>\n",
       "  </tbody>\n",
       "</table>\n",
       "</div>"
      ],
      "text/plain": [
       "            City  Alaska_On_Time  Alaska_Delay  AM WEST_On_Time  \\\n",
       "0    Los angelos             497            62              694   \n",
       "1        Pheonix             221            12             4840   \n",
       "2      San Diego             212            20              383   \n",
       "3  san Francisco             503           102               20   \n",
       "4        Seattle            1841           305              201   \n",
       "\n",
       "   AM West_Delay  Total_Alaska_Flights  Alaska_Percent_Delay  Total_AMWest  \\\n",
       "0            117                   559             11.091234           811   \n",
       "1            415                   233              5.150215          5255   \n",
       "2             65                   232              8.620690           448   \n",
       "3            129                   605             16.859504           149   \n",
       "4             61                  2146             14.212488           262   \n",
       "\n",
       "   AMWest_Percent_Delay Most_Delayed_Airline  \n",
       "0             14.426634               AMWest  \n",
       "1              7.897241               AMWest  \n",
       "2             14.508929               AMWest  \n",
       "3             86.577181               AMWest  \n",
       "4             23.282443               AMWest  "
      ]
     },
     "execution_count": 21,
     "metadata": {},
     "output_type": "execute_result"
    }
   ],
   "source": [
    "airline_data"
   ]
  },
  {
   "cell_type": "markdown",
   "metadata": {},
   "source": [
    "Since the number of flights travelled among both airlines was not the same it was helpful to analyze the data based on the percentage of flights that were delayed among both airlines. The results show that AMWest had the greates percentage of delays among the five cities samples for the data set. Since a greter percentage of AWWest flights are delayed it is a reasonable to assume that Alaska airlines would be the more reliable for passengers flying to Los Angelos, Pheonix, San Diego, Sanfrancisco and Seattle."
   ]
  },
  {
   "cell_type": "code",
   "execution_count": null,
   "metadata": {},
   "outputs": [],
   "source": []
  }
 ],
 "metadata": {
  "kernelspec": {
   "display_name": "Python 3",
   "language": "python",
   "name": "python3"
  },
  "language_info": {
   "codemirror_mode": {
    "name": "ipython",
    "version": 3
   },
   "file_extension": ".py",
   "mimetype": "text/x-python",
   "name": "python",
   "nbconvert_exporter": "python",
   "pygments_lexer": "ipython3",
   "version": "3.8.7"
  }
 },
 "nbformat": 4,
 "nbformat_minor": 4
}
