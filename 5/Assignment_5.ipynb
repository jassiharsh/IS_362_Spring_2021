{
 "cells": [
  {
   "cell_type": "markdown",
   "metadata": {},
   "source": [
    "# Assignment 5\n"
   ]
  },
  {
   "cell_type": "markdown",
   "metadata": {},
   "source": [
    "### 1. Northernmost airport in the United States"
   ]
  },
  {
   "cell_type": "markdown",
   "metadata": {},
   "source": [
    "#### Get the name of the northernmost airport using latitude."
   ]
  },
  {
   "cell_type": "markdown",
   "metadata": {},
   "source": [
    "- Get the five northernmost airports"
   ]
  },
  {
   "cell_type": "code",
   "execution_count": 2,
   "metadata": {},
   "outputs": [
    {
     "data": {
      "text/html": [
       "<div>\n",
       "<style scoped>\n",
       "    .dataframe tbody tr th:only-of-type {\n",
       "        vertical-align: middle;\n",
       "    }\n",
       "\n",
       "    .dataframe tbody tr th {\n",
       "        vertical-align: top;\n",
       "    }\n",
       "\n",
       "    .dataframe thead th {\n",
       "        text-align: right;\n",
       "    }\n",
       "</style>\n",
       "<table border=\"1\" class=\"dataframe\">\n",
       "  <thead>\n",
       "    <tr style=\"text-align: right;\">\n",
       "      <th></th>\n",
       "      <th>faa</th>\n",
       "      <th>name</th>\n",
       "      <th>lat</th>\n",
       "      <th>lon</th>\n",
       "      <th>alt</th>\n",
       "      <th>tz</th>\n",
       "      <th>dst</th>\n",
       "      <th>tzone</th>\n",
       "    </tr>\n",
       "  </thead>\n",
       "  <tbody>\n",
       "    <tr>\n",
       "      <th>417</th>\n",
       "      <td>EEN</td>\n",
       "      <td>Dillant Hopkins Airport</td>\n",
       "      <td>72.270833</td>\n",
       "      <td>42.898333</td>\n",
       "      <td>149</td>\n",
       "      <td>-5</td>\n",
       "      <td>A</td>\n",
       "      <td>NaN</td>\n",
       "    </tr>\n",
       "    <tr>\n",
       "      <th>230</th>\n",
       "      <td>BRW</td>\n",
       "      <td>Wiley Post Will Rogers Mem</td>\n",
       "      <td>71.285446</td>\n",
       "      <td>-156.766003</td>\n",
       "      <td>44</td>\n",
       "      <td>-9</td>\n",
       "      <td>A</td>\n",
       "      <td>America/Anchorage</td>\n",
       "    </tr>\n",
       "    <tr>\n",
       "      <th>110</th>\n",
       "      <td>AIN</td>\n",
       "      <td>Wainwright Airport</td>\n",
       "      <td>70.638056</td>\n",
       "      <td>-159.994722</td>\n",
       "      <td>41</td>\n",
       "      <td>-9</td>\n",
       "      <td>A</td>\n",
       "      <td>America/Anchorage</td>\n",
       "    </tr>\n",
       "    <tr>\n",
       "      <th>708</th>\n",
       "      <td>K03</td>\n",
       "      <td>Wainwright As</td>\n",
       "      <td>70.613378</td>\n",
       "      <td>-159.860350</td>\n",
       "      <td>35</td>\n",
       "      <td>-9</td>\n",
       "      <td>A</td>\n",
       "      <td>America/Anchorage</td>\n",
       "    </tr>\n",
       "    <tr>\n",
       "      <th>152</th>\n",
       "      <td>ATK</td>\n",
       "      <td>Atqasuk Edward Burnell Sr Memorial Airport</td>\n",
       "      <td>70.467300</td>\n",
       "      <td>-157.436000</td>\n",
       "      <td>96</td>\n",
       "      <td>-9</td>\n",
       "      <td>A</td>\n",
       "      <td>America/Anchorage</td>\n",
       "    </tr>\n",
       "  </tbody>\n",
       "</table>\n",
       "</div>"
      ],
      "text/plain": [
       "     faa                                        name        lat         lon  \\\n",
       "417  EEN                     Dillant Hopkins Airport  72.270833   42.898333   \n",
       "230  BRW                  Wiley Post Will Rogers Mem  71.285446 -156.766003   \n",
       "110  AIN                          Wainwright Airport  70.638056 -159.994722   \n",
       "708  K03                               Wainwright As  70.613378 -159.860350   \n",
       "152  ATK  Atqasuk Edward Burnell Sr Memorial Airport  70.467300 -157.436000   \n",
       "\n",
       "     alt  tz dst              tzone  \n",
       "417  149  -5   A                NaN  \n",
       "230   44  -9   A  America/Anchorage  \n",
       "110   41  -9   A  America/Anchorage  \n",
       "708   35  -9   A  America/Anchorage  \n",
       "152   96  -9   A  America/Anchorage  "
      ]
     },
     "execution_count": 2,
     "metadata": {},
     "output_type": "execute_result"
    }
   ],
   "source": [
    "import pandas as pd\n",
    "#import csv\n",
    "data=pd.read_csv(\"airports.csv\", delimiter=\",\") \n",
    "#get name of northernmost airport\n",
    "data.nlargest(5,'lat')"
   ]
  },
  {
   "cell_type": "markdown",
   "metadata": {},
   "source": [
    "- Get the northernmost airport"
   ]
  },
  {
   "cell_type": "code",
   "execution_count": 3,
   "metadata": {
    "scrolled": true
   },
   "outputs": [
    {
     "data": {
      "text/plain": [
       "417    Dillant Hopkins Airport\n",
       "Name: name, dtype: object"
      ]
     },
     "execution_count": 3,
     "metadata": {},
     "output_type": "execute_result"
    }
   ],
   "source": [
    "#get name of northernmost airport\n",
    "data.nlargest(1,'lat')['name']\n"
   ]
  },
  {
   "cell_type": "markdown",
   "metadata": {},
   "source": [
    " ####  Answer"
   ]
  },
  {
   "cell_type": "markdown",
   "metadata": {},
   "source": [
    "*The Nothernmost Airport is Dillant Hopkins Airport*"
   ]
  },
  {
   "cell_type": "markdown",
   "metadata": {},
   "source": [
    "### 2. Easernmost airport in the United States"
   ]
  },
  {
   "cell_type": "markdown",
   "metadata": {},
   "source": [
    "#### Get the name of the easternmost airport using latitude."
   ]
  },
  {
   "cell_type": "markdown",
   "metadata": {},
   "source": [
    "- List  of the five easternmost"
   ]
  },
  {
   "cell_type": "code",
   "execution_count": 4,
   "metadata": {},
   "outputs": [
    {
     "data": {
      "text/html": [
       "<div>\n",
       "<style scoped>\n",
       "    .dataframe tbody tr th:only-of-type {\n",
       "        vertical-align: middle;\n",
       "    }\n",
       "\n",
       "    .dataframe tbody tr th {\n",
       "        vertical-align: top;\n",
       "    }\n",
       "\n",
       "    .dataframe thead th {\n",
       "        text-align: right;\n",
       "    }\n",
       "</style>\n",
       "<table border=\"1\" class=\"dataframe\">\n",
       "  <thead>\n",
       "    <tr style=\"text-align: right;\">\n",
       "      <th></th>\n",
       "      <th>faa</th>\n",
       "      <th>name</th>\n",
       "      <th>lat</th>\n",
       "      <th>lon</th>\n",
       "      <th>alt</th>\n",
       "      <th>tz</th>\n",
       "      <th>dst</th>\n",
       "      <th>tzone</th>\n",
       "    </tr>\n",
       "  </thead>\n",
       "  <tbody>\n",
       "    <tr>\n",
       "      <th>1290</th>\n",
       "      <td>SYA</td>\n",
       "      <td>Eareckson As</td>\n",
       "      <td>52.712275</td>\n",
       "      <td>174.113620</td>\n",
       "      <td>98</td>\n",
       "      <td>-9</td>\n",
       "      <td>A</td>\n",
       "      <td>America/Anchorage</td>\n",
       "    </tr>\n",
       "    <tr>\n",
       "      <th>942</th>\n",
       "      <td>MYF</td>\n",
       "      <td>Montgomery Field</td>\n",
       "      <td>32.475900</td>\n",
       "      <td>117.759000</td>\n",
       "      <td>17</td>\n",
       "      <td>8</td>\n",
       "      <td>A</td>\n",
       "      <td>Asia/Chongqing</td>\n",
       "    </tr>\n",
       "    <tr>\n",
       "      <th>396</th>\n",
       "      <td>DVT</td>\n",
       "      <td>Deer Valley Municipal Airport</td>\n",
       "      <td>33.411700</td>\n",
       "      <td>112.457000</td>\n",
       "      <td>1478</td>\n",
       "      <td>8</td>\n",
       "      <td>A</td>\n",
       "      <td>Asia/Chongqing</td>\n",
       "    </tr>\n",
       "    <tr>\n",
       "      <th>417</th>\n",
       "      <td>EEN</td>\n",
       "      <td>Dillant Hopkins Airport</td>\n",
       "      <td>72.270833</td>\n",
       "      <td>42.898333</td>\n",
       "      <td>149</td>\n",
       "      <td>-5</td>\n",
       "      <td>A</td>\n",
       "      <td>NaN</td>\n",
       "    </tr>\n",
       "    <tr>\n",
       "      <th>444</th>\n",
       "      <td>EPM</td>\n",
       "      <td>Eastport Municipal Airport</td>\n",
       "      <td>44.910111</td>\n",
       "      <td>-67.012694</td>\n",
       "      <td>45</td>\n",
       "      <td>-5</td>\n",
       "      <td>A</td>\n",
       "      <td>America/New_York</td>\n",
       "    </tr>\n",
       "  </tbody>\n",
       "</table>\n",
       "</div>"
      ],
      "text/plain": [
       "      faa                           name        lat         lon   alt  tz dst  \\\n",
       "1290  SYA                   Eareckson As  52.712275  174.113620    98  -9   A   \n",
       "942   MYF               Montgomery Field  32.475900  117.759000    17   8   A   \n",
       "396   DVT  Deer Valley Municipal Airport  33.411700  112.457000  1478   8   A   \n",
       "417   EEN        Dillant Hopkins Airport  72.270833   42.898333   149  -5   A   \n",
       "444   EPM     Eastport Municipal Airport  44.910111  -67.012694    45  -5   A   \n",
       "\n",
       "                  tzone  \n",
       "1290  America/Anchorage  \n",
       "942      Asia/Chongqing  \n",
       "396      Asia/Chongqing  \n",
       "417                 NaN  \n",
       "444    America/New_York  "
      ]
     },
     "execution_count": 4,
     "metadata": {},
     "output_type": "execute_result"
    }
   ],
   "source": [
    "#get names of 5 easternmost airports\n",
    "data.nlargest(5,'lon')"
   ]
  },
  {
   "cell_type": "markdown",
   "metadata": {},
   "source": [
    "- Easternmost airport using latitude"
   ]
  },
  {
   "cell_type": "code",
   "execution_count": 5,
   "metadata": {},
   "outputs": [
    {
     "data": {
      "text/plain": [
       "1290    Eareckson As\n",
       "Name: name, dtype: object"
      ]
     },
     "execution_count": 5,
     "metadata": {},
     "output_type": "execute_result"
    }
   ],
   "source": [
    "#name of most easternmost airport\n",
    "data.nlargest(1,'lon')['name']"
   ]
  },
  {
   "cell_type": "markdown",
   "metadata": {},
   "source": [
    "#### Answer"
   ]
  },
  {
   "cell_type": "markdown",
   "metadata": {},
   "source": [
    "*The Easternmost airport is Eareckson As*"
   ]
  },
  {
   "cell_type": "markdown",
   "metadata": {},
   "source": [
    "### 3. On February 12th, 2013, which New York area airport had the windiest weather?"
   ]
  },
  {
   "cell_type": "code",
   "execution_count": 6,
   "metadata": {
    "scrolled": true
   },
   "outputs": [
    {
     "data": {
      "text/html": [
       "<div>\n",
       "<style scoped>\n",
       "    .dataframe tbody tr th:only-of-type {\n",
       "        vertical-align: middle;\n",
       "    }\n",
       "\n",
       "    .dataframe tbody tr th {\n",
       "        vertical-align: top;\n",
       "    }\n",
       "\n",
       "    .dataframe thead th {\n",
       "        text-align: right;\n",
       "    }\n",
       "</style>\n",
       "<table border=\"1\" class=\"dataframe\">\n",
       "  <thead>\n",
       "    <tr style=\"text-align: right;\">\n",
       "      <th></th>\n",
       "      <th>origin</th>\n",
       "      <th>year</th>\n",
       "      <th>month</th>\n",
       "      <th>day</th>\n",
       "      <th>hour</th>\n",
       "      <th>temp</th>\n",
       "      <th>dewp</th>\n",
       "      <th>humid</th>\n",
       "      <th>wind_dir</th>\n",
       "      <th>wind_speed</th>\n",
       "      <th>wind_gust</th>\n",
       "      <th>precip</th>\n",
       "      <th>pressure</th>\n",
       "      <th>visib</th>\n",
       "      <th>time_hour</th>\n",
       "      <th>faa</th>\n",
       "      <th>name</th>\n",
       "      <th>tzone</th>\n",
       "    </tr>\n",
       "  </thead>\n",
       "  <tbody>\n",
       "    <tr>\n",
       "      <th>1006</th>\n",
       "      <td>EWR</td>\n",
       "      <td>2013</td>\n",
       "      <td>2</td>\n",
       "      <td>12</td>\n",
       "      <td>0</td>\n",
       "      <td>39.92</td>\n",
       "      <td>39.02</td>\n",
       "      <td>96.55</td>\n",
       "      <td>240.0</td>\n",
       "      <td>6.90468</td>\n",
       "      <td>NaN</td>\n",
       "      <td>0.0</td>\n",
       "      <td>1006.9</td>\n",
       "      <td>10.0</td>\n",
       "      <td>2013-02-12T05:00:00Z</td>\n",
       "      <td>EWR</td>\n",
       "      <td>Newark Liberty Intl</td>\n",
       "      <td>America/New_York</td>\n",
       "    </tr>\n",
       "    <tr>\n",
       "      <th>1007</th>\n",
       "      <td>EWR</td>\n",
       "      <td>2013</td>\n",
       "      <td>2</td>\n",
       "      <td>12</td>\n",
       "      <td>1</td>\n",
       "      <td>39.92</td>\n",
       "      <td>37.94</td>\n",
       "      <td>92.56</td>\n",
       "      <td>250.0</td>\n",
       "      <td>9.20624</td>\n",
       "      <td>NaN</td>\n",
       "      <td>0.0</td>\n",
       "      <td>1007.2</td>\n",
       "      <td>10.0</td>\n",
       "      <td>2013-02-12T06:00:00Z</td>\n",
       "      <td>EWR</td>\n",
       "      <td>Newark Liberty Intl</td>\n",
       "      <td>America/New_York</td>\n",
       "    </tr>\n",
       "    <tr>\n",
       "      <th>1008</th>\n",
       "      <td>EWR</td>\n",
       "      <td>2013</td>\n",
       "      <td>2</td>\n",
       "      <td>12</td>\n",
       "      <td>2</td>\n",
       "      <td>39.92</td>\n",
       "      <td>28.04</td>\n",
       "      <td>62.21</td>\n",
       "      <td>270.0</td>\n",
       "      <td>20.71404</td>\n",
       "      <td>25.31716</td>\n",
       "      <td>0.0</td>\n",
       "      <td>1007.8</td>\n",
       "      <td>10.0</td>\n",
       "      <td>2013-02-12T07:00:00Z</td>\n",
       "      <td>EWR</td>\n",
       "      <td>Newark Liberty Intl</td>\n",
       "      <td>America/New_York</td>\n",
       "    </tr>\n",
       "    <tr>\n",
       "      <th>1009</th>\n",
       "      <td>EWR</td>\n",
       "      <td>2013</td>\n",
       "      <td>2</td>\n",
       "      <td>12</td>\n",
       "      <td>3</td>\n",
       "      <td>39.02</td>\n",
       "      <td>26.96</td>\n",
       "      <td>61.63</td>\n",
       "      <td>260.0</td>\n",
       "      <td>1048.36058</td>\n",
       "      <td>NaN</td>\n",
       "      <td>0.0</td>\n",
       "      <td>1008.3</td>\n",
       "      <td>10.0</td>\n",
       "      <td>2013-02-12T08:00:00Z</td>\n",
       "      <td>EWR</td>\n",
       "      <td>Newark Liberty Intl</td>\n",
       "      <td>America/New_York</td>\n",
       "    </tr>\n",
       "    <tr>\n",
       "      <th>1010</th>\n",
       "      <td>EWR</td>\n",
       "      <td>2013</td>\n",
       "      <td>2</td>\n",
       "      <td>12</td>\n",
       "      <td>4</td>\n",
       "      <td>39.02</td>\n",
       "      <td>26.96</td>\n",
       "      <td>64.29</td>\n",
       "      <td>280.0</td>\n",
       "      <td>12.65858</td>\n",
       "      <td>NaN</td>\n",
       "      <td>0.0</td>\n",
       "      <td>1008.8</td>\n",
       "      <td>10.0</td>\n",
       "      <td>2013-02-12T09:00:00Z</td>\n",
       "      <td>EWR</td>\n",
       "      <td>Newark Liberty Intl</td>\n",
       "      <td>America/New_York</td>\n",
       "    </tr>\n",
       "    <tr>\n",
       "      <th>...</th>\n",
       "      <td>...</td>\n",
       "      <td>...</td>\n",
       "      <td>...</td>\n",
       "      <td>...</td>\n",
       "      <td>...</td>\n",
       "      <td>...</td>\n",
       "      <td>...</td>\n",
       "      <td>...</td>\n",
       "      <td>...</td>\n",
       "      <td>...</td>\n",
       "      <td>...</td>\n",
       "      <td>...</td>\n",
       "      <td>...</td>\n",
       "      <td>...</td>\n",
       "      <td>...</td>\n",
       "      <td>...</td>\n",
       "      <td>...</td>\n",
       "      <td>...</td>\n",
       "    </tr>\n",
       "    <tr>\n",
       "      <th>18434</th>\n",
       "      <td>LGA</td>\n",
       "      <td>2013</td>\n",
       "      <td>2</td>\n",
       "      <td>12</td>\n",
       "      <td>19</td>\n",
       "      <td>41.00</td>\n",
       "      <td>21.92</td>\n",
       "      <td>46.23</td>\n",
       "      <td>260.0</td>\n",
       "      <td>14.96014</td>\n",
       "      <td>21.86482</td>\n",
       "      <td>0.0</td>\n",
       "      <td>1014.7</td>\n",
       "      <td>10.0</td>\n",
       "      <td>2013-02-13T00:00:00Z</td>\n",
       "      <td>LGA</td>\n",
       "      <td>La Guardia</td>\n",
       "      <td>America/New_York</td>\n",
       "    </tr>\n",
       "    <tr>\n",
       "      <th>18435</th>\n",
       "      <td>LGA</td>\n",
       "      <td>2013</td>\n",
       "      <td>2</td>\n",
       "      <td>12</td>\n",
       "      <td>20</td>\n",
       "      <td>39.92</td>\n",
       "      <td>23.00</td>\n",
       "      <td>50.46</td>\n",
       "      <td>290.0</td>\n",
       "      <td>10.35702</td>\n",
       "      <td>NaN</td>\n",
       "      <td>0.0</td>\n",
       "      <td>1013.6</td>\n",
       "      <td>10.0</td>\n",
       "      <td>2013-02-13T01:00:00Z</td>\n",
       "      <td>LGA</td>\n",
       "      <td>La Guardia</td>\n",
       "      <td>America/New_York</td>\n",
       "    </tr>\n",
       "    <tr>\n",
       "      <th>18436</th>\n",
       "      <td>LGA</td>\n",
       "      <td>2013</td>\n",
       "      <td>2</td>\n",
       "      <td>12</td>\n",
       "      <td>21</td>\n",
       "      <td>39.02</td>\n",
       "      <td>21.92</td>\n",
       "      <td>49.93</td>\n",
       "      <td>310.0</td>\n",
       "      <td>10.35702</td>\n",
       "      <td>NaN</td>\n",
       "      <td>0.0</td>\n",
       "      <td>1012.8</td>\n",
       "      <td>10.0</td>\n",
       "      <td>2013-02-13T02:00:00Z</td>\n",
       "      <td>LGA</td>\n",
       "      <td>La Guardia</td>\n",
       "      <td>America/New_York</td>\n",
       "    </tr>\n",
       "    <tr>\n",
       "      <th>18437</th>\n",
       "      <td>LGA</td>\n",
       "      <td>2013</td>\n",
       "      <td>2</td>\n",
       "      <td>12</td>\n",
       "      <td>22</td>\n",
       "      <td>39.02</td>\n",
       "      <td>23.00</td>\n",
       "      <td>52.26</td>\n",
       "      <td>310.0</td>\n",
       "      <td>11.50780</td>\n",
       "      <td>NaN</td>\n",
       "      <td>0.0</td>\n",
       "      <td>1012.7</td>\n",
       "      <td>10.0</td>\n",
       "      <td>2013-02-13T03:00:00Z</td>\n",
       "      <td>LGA</td>\n",
       "      <td>La Guardia</td>\n",
       "      <td>America/New_York</td>\n",
       "    </tr>\n",
       "    <tr>\n",
       "      <th>18438</th>\n",
       "      <td>LGA</td>\n",
       "      <td>2013</td>\n",
       "      <td>2</td>\n",
       "      <td>12</td>\n",
       "      <td>23</td>\n",
       "      <td>37.94</td>\n",
       "      <td>23.00</td>\n",
       "      <td>54.51</td>\n",
       "      <td>300.0</td>\n",
       "      <td>9.20624</td>\n",
       "      <td>NaN</td>\n",
       "      <td>0.0</td>\n",
       "      <td>1013.5</td>\n",
       "      <td>10.0</td>\n",
       "      <td>2013-02-13T04:00:00Z</td>\n",
       "      <td>LGA</td>\n",
       "      <td>La Guardia</td>\n",
       "      <td>America/New_York</td>\n",
       "    </tr>\n",
       "  </tbody>\n",
       "</table>\n",
       "<p>72 rows × 18 columns</p>\n",
       "</div>"
      ],
      "text/plain": [
       "      origin  year  month  day  hour   temp   dewp  humid  wind_dir  \\\n",
       "1006     EWR  2013      2   12     0  39.92  39.02  96.55     240.0   \n",
       "1007     EWR  2013      2   12     1  39.92  37.94  92.56     250.0   \n",
       "1008     EWR  2013      2   12     2  39.92  28.04  62.21     270.0   \n",
       "1009     EWR  2013      2   12     3  39.02  26.96  61.63     260.0   \n",
       "1010     EWR  2013      2   12     4  39.02  26.96  64.29     280.0   \n",
       "...      ...   ...    ...  ...   ...    ...    ...    ...       ...   \n",
       "18434    LGA  2013      2   12    19  41.00  21.92  46.23     260.0   \n",
       "18435    LGA  2013      2   12    20  39.92  23.00  50.46     290.0   \n",
       "18436    LGA  2013      2   12    21  39.02  21.92  49.93     310.0   \n",
       "18437    LGA  2013      2   12    22  39.02  23.00  52.26     310.0   \n",
       "18438    LGA  2013      2   12    23  37.94  23.00  54.51     300.0   \n",
       "\n",
       "       wind_speed  wind_gust  precip  pressure  visib             time_hour  \\\n",
       "1006      6.90468        NaN     0.0    1006.9   10.0  2013-02-12T05:00:00Z   \n",
       "1007      9.20624        NaN     0.0    1007.2   10.0  2013-02-12T06:00:00Z   \n",
       "1008     20.71404   25.31716     0.0    1007.8   10.0  2013-02-12T07:00:00Z   \n",
       "1009   1048.36058        NaN     0.0    1008.3   10.0  2013-02-12T08:00:00Z   \n",
       "1010     12.65858        NaN     0.0    1008.8   10.0  2013-02-12T09:00:00Z   \n",
       "...           ...        ...     ...       ...    ...                   ...   \n",
       "18434    14.96014   21.86482     0.0    1014.7   10.0  2013-02-13T00:00:00Z   \n",
       "18435    10.35702        NaN     0.0    1013.6   10.0  2013-02-13T01:00:00Z   \n",
       "18436    10.35702        NaN     0.0    1012.8   10.0  2013-02-13T02:00:00Z   \n",
       "18437    11.50780        NaN     0.0    1012.7   10.0  2013-02-13T03:00:00Z   \n",
       "18438     9.20624        NaN     0.0    1013.5   10.0  2013-02-13T04:00:00Z   \n",
       "\n",
       "       faa                 name             tzone  \n",
       "1006   EWR  Newark Liberty Intl  America/New_York  \n",
       "1007   EWR  Newark Liberty Intl  America/New_York  \n",
       "1008   EWR  Newark Liberty Intl  America/New_York  \n",
       "1009   EWR  Newark Liberty Intl  America/New_York  \n",
       "1010   EWR  Newark Liberty Intl  America/New_York  \n",
       "...    ...                  ...               ...  \n",
       "18434  LGA           La Guardia  America/New_York  \n",
       "18435  LGA           La Guardia  America/New_York  \n",
       "18436  LGA           La Guardia  America/New_York  \n",
       "18437  LGA           La Guardia  America/New_York  \n",
       "18438  LGA           La Guardia  America/New_York  \n",
       "\n",
       "[72 rows x 18 columns]"
      ]
     },
     "execution_count": 6,
     "metadata": {},
     "output_type": "execute_result"
    }
   ],
   "source": [
    "#import csv\n",
    "airport_weather=pd.read_csv(\"weather.csv\", delimiter=\",\") \n",
    "airports=pd.read_csv(\"airports.csv\", delimiter=\",\") [[\"faa\",\"name\",\"tzone\"]]\n",
    "#merge airport weather data and airports data to add names of airports and zones\n",
    "df_airport_merge = pd.merge(airport_weather, airports, left_on='origin', right_on='faa')\n",
    "\n",
    "#filter data using date and zone (New York) \n",
    "windiest=df_airport_merge.loc[(df_airport_merge['year'] == 2013) & (df_airport_merge['month'] == 2)& (df_airport_merge['day'] == 12) & (df_airport_merge['tzone'].str.contains(pat = 'New_York') ) ]\n",
    "windiest"
   ]
  },
  {
   "cell_type": "code",
   "execution_count": 7,
   "metadata": {},
   "outputs": [
    {
     "data": {
      "text/plain": [
       "1009    Newark Liberty Intl\n",
       "Name: name, dtype: object"
      ]
     },
     "execution_count": 7,
     "metadata": {},
     "output_type": "execute_result"
    }
   ],
   "source": [
    "#get name of windiest airport from filtered data\n",
    "windiest.nlargest(1,'wind_speed')['name']"
   ]
  },
  {
   "cell_type": "markdown",
   "metadata": {},
   "source": [
    "#### Answer"
   ]
  },
  {
   "cell_type": "markdown",
   "metadata": {},
   "source": [
    "*On February 12th, 2013, Newark Liberty Intl had the windiest weather in New york*"
   ]
  },
  {
   "cell_type": "code",
   "execution_count": null,
   "metadata": {},
   "outputs": [],
   "source": []
  }
 ],
 "metadata": {
  "kernelspec": {
   "display_name": "Python 3",
   "language": "python",
   "name": "python3"
  },
  "language_info": {
   "codemirror_mode": {
    "name": "ipython",
    "version": 3
   },
   "file_extension": ".py",
   "mimetype": "text/x-python",
   "name": "python",
   "nbconvert_exporter": "python",
   "pygments_lexer": "ipython3",
   "version": "3.7.6"
  }
 },
 "nbformat": 4,
 "nbformat_minor": 4
}
